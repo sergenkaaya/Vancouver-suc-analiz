{
 "cells":[
  {
   "cell_type":"markdown",
   "source":[
    "## Vancouver Şehrinde 2003-2017 Yılları Arasında İşlenmiş Suçların Analizi Ve Tahmini\n",
    "\n",
    "kaggle.com üzerinden elde edilmiş 2003-2017 yılları arasında Vancouver şehrinde işlenmiş suçları içeren veri seti kullanılarak suçlar üzerinde analiz, k-means kümeleme kullanılarak şehirdeki mahallelerin güvenli\/güvensiz olarak görülmesi aynı zamanda gelecekte yaşanabilecek suçlar üzerinde tahmin yapmak amaçlanmıştır."
   ],
   "attachments":{
    
   },
   "metadata":{
    "datalore":{
     "node_id":"Cj8Y78q92v0BuYF9AAyPuo",
     "type":"MD",
     "hide_input_from_viewers":true,
     "hide_output_from_viewers":true
    }
   }
  },
  {
   "cell_type":"code",
   "source":[
    "import numpy as np #gerekli kütüphaneler\n",
    "import timeit\n",
    "import pandas as pd\n",
    "from sklearn.preprocessing import StandardScaler\n",
    "from sklearn.cluster import KMeans\n",
    "import matplotlib.pyplot as plt\n",
    "import matplotlib\n",
    "from sklearn.decomposition import PCA\n",
    "from sklearn.metrics import silhouette_samples, silhouette_score\n",
    "import matplotlib.cm as cm"
   ],
   "execution_count":1,
   "outputs":[
    
   ],
   "metadata":{
    "datalore":{
     "node_id":"k5wYPukQh9OpOc2PEMCi0F",
     "type":"CODE",
     "hide_input_from_viewers":true,
     "hide_output_from_viewers":true
    }
   }
  },
  {
   "cell_type":"code",
   "source":[
    "crime = pd.read_csv(\"vancouver_crime.csv\",index_col=0) # veri seti"
   ],
   "execution_count":2,
   "outputs":[
    
   ],
   "metadata":{
    "datalore":{
     "node_id":"CxgoSi4HH2qi2cUJtkDd7R",
     "type":"CODE",
     "hide_input_from_viewers":true,
     "hide_output_from_viewers":true
    }
   }
  },
  {
   "cell_type":"code",
   "source":[
    "crime.head()"
   ],
   "execution_count":3,
   "outputs":[
    {
     "data":{
      "text\/html":[
       "<div>\n",
       "<style scoped>\n",
       "    .dataframe tbody tr th:only-of-type {\n",
       "        vertical-align: middle;\n",
       "    }\n",
       "\n",
       "    .dataframe tbody tr th {\n",
       "        vertical-align: top;\n",
       "    }\n",
       "\n",
       "    .dataframe thead th {\n",
       "        text-align: right;\n",
       "    }\n",
       "<\/style>\n",
       "<table border=\"1\" class=\"dataframe\">\n",
       "  <thead>\n",
       "    <tr style=\"text-align: right;\">\n",
       "      <th><\/th>\n",
       "      <th>TYPE<\/th>\n",
       "      <th>YEAR<\/th>\n",
       "      <th>MONTH<\/th>\n",
       "      <th>DAY<\/th>\n",
       "      <th>HOUR<\/th>\n",
       "      <th>MINUTE<\/th>\n",
       "      <th>HUNDRED_BLOCK<\/th>\n",
       "      <th>NEIGHBOURHOOD<\/th>\n",
       "      <th>X<\/th>\n",
       "      <th>Y<\/th>\n",
       "      <th>Latitude<\/th>\n",
       "      <th>Longitude<\/th>\n",
       "    <\/tr>\n",
       "  <\/thead>\n",
       "  <tbody>\n",
       "    <tr>\n",
       "      <th>0<\/th>\n",
       "      <td>Other Theft<\/td>\n",
       "      <td>2003<\/td>\n",
       "      <td>5<\/td>\n",
       "      <td>12<\/td>\n",
       "      <td>16.0<\/td>\n",
       "      <td>15.0<\/td>\n",
       "      <td>9XX TERMINAL AVE<\/td>\n",
       "      <td>Strathcona<\/td>\n",
       "      <td>493906.5<\/td>\n",
       "      <td>5457452.47<\/td>\n",
       "      <td>49.269802<\/td>\n",
       "      <td>-123.083763<\/td>\n",
       "    <\/tr>\n",
       "    <tr>\n",
       "      <th>1<\/th>\n",
       "      <td>Other Theft<\/td>\n",
       "      <td>2003<\/td>\n",
       "      <td>5<\/td>\n",
       "      <td>7<\/td>\n",
       "      <td>15.0<\/td>\n",
       "      <td>20.0<\/td>\n",
       "      <td>9XX TERMINAL AVE<\/td>\n",
       "      <td>Strathcona<\/td>\n",
       "      <td>493906.5<\/td>\n",
       "      <td>5457452.47<\/td>\n",
       "      <td>49.269802<\/td>\n",
       "      <td>-123.083763<\/td>\n",
       "    <\/tr>\n",
       "    <tr>\n",
       "      <th>2<\/th>\n",
       "      <td>Other Theft<\/td>\n",
       "      <td>2003<\/td>\n",
       "      <td>4<\/td>\n",
       "      <td>23<\/td>\n",
       "      <td>16.0<\/td>\n",
       "      <td>40.0<\/td>\n",
       "      <td>9XX TERMINAL AVE<\/td>\n",
       "      <td>Strathcona<\/td>\n",
       "      <td>493906.5<\/td>\n",
       "      <td>5457452.47<\/td>\n",
       "      <td>49.269802<\/td>\n",
       "      <td>-123.083763<\/td>\n",
       "    <\/tr>\n",
       "    <tr>\n",
       "      <th>3<\/th>\n",
       "      <td>Other Theft<\/td>\n",
       "      <td>2003<\/td>\n",
       "      <td>4<\/td>\n",
       "      <td>20<\/td>\n",
       "      <td>11.0<\/td>\n",
       "      <td>15.0<\/td>\n",
       "      <td>9XX TERMINAL AVE<\/td>\n",
       "      <td>Strathcona<\/td>\n",
       "      <td>493906.5<\/td>\n",
       "      <td>5457452.47<\/td>\n",
       "      <td>49.269802<\/td>\n",
       "      <td>-123.083763<\/td>\n",
       "    <\/tr>\n",
       "    <tr>\n",
       "      <th>4<\/th>\n",
       "      <td>Other Theft<\/td>\n",
       "      <td>2003<\/td>\n",
       "      <td>4<\/td>\n",
       "      <td>12<\/td>\n",
       "      <td>17.0<\/td>\n",
       "      <td>45.0<\/td>\n",
       "      <td>9XX TERMINAL AVE<\/td>\n",
       "      <td>Strathcona<\/td>\n",
       "      <td>493906.5<\/td>\n",
       "      <td>5457452.47<\/td>\n",
       "      <td>49.269802<\/td>\n",
       "      <td>-123.083763<\/td>\n",
       "    <\/tr>\n",
       "  <\/tbody>\n",
       "<\/table>\n",
       "<\/div>"
      ]
     },
     "metadata":{
      
     },
     "output_type":"display_data"
    }
   ],
   "metadata":{
    "datalore":{
     "node_id":"VbzICQ7bKiogDzUQk5Plm6",
     "type":"CODE",
     "hide_input_from_viewers":true,
     "hide_output_from_viewers":true
    }
   }
  },
  {
   "cell_type":"code",
   "source":[
    "drop_colmn = ['YEAR','MONTH','DAY','HOUR','MINUTE','HUNDRED_BLOCK','X','Y','Latitude','Longitude']\n",
    "# Veri setinden 'TYPE' ve 'NEIGHBOURHOOD' harici tüm sütunların silinmesi\n",
    "crime_dropped = crime.drop(columns=drop_colmn) "
   ],
   "execution_count":4,
   "outputs":[
    
   ],
   "metadata":{
    "datalore":{
     "node_id":"MuAydfwd0KIKKdSj8iN6kx",
     "type":"CODE",
     "hide_input_from_viewers":true,
     "hide_output_from_viewers":true
    }
   }
  },
  {
   "cell_type":"code",
   "source":[
    "crime_grouped = crime_dropped.groupby(crime_dropped['TYPE']).count()\n",
    "# Veri setini suç tipine göre gruplanıp, işlenme sayılarını öğrenmek."
   ],
   "execution_count":5,
   "outputs":[
    
   ],
   "metadata":{
    "datalore":{
     "node_id":"Vbs60jDtlQrA8Fvao6IZTG",
     "type":"CODE",
     "hide_input_from_viewers":true,
     "hide_output_from_viewers":true
    }
   }
  },
  {
   "cell_type":"code",
   "source":[
    "plot = crime_grouped.iloc[:,0]\n",
    "plot = pd.DataFrame(plot) #Grafik oluşturma\n",
    "plot.columns = [\"Sayı\"]"
   ],
   "execution_count":6,
   "outputs":[
    
   ],
   "metadata":{
    "datalore":{
     "node_id":"kjxagAkFU08dg0PvKIUzsO",
     "type":"CODE",
     "hide_input_from_viewers":true,
     "hide_output_from_viewers":true
    }
   }
  },
  {
   "cell_type":"code",
   "source":[
    "totals = []\n",
    "ax = plot.plot(kind='barh',figsize=(15,5),title='2003-2017de Vancouver da Gerçekleşen Suçlar')\n",
    "for i in ax.patches:                                    #Grafik oluşturma\n",
    "    ax.text(i.get_width()+0.3,i.get_y()+0.38,\\\n",
    "            str(round((i.get_width()),2)),fontsize=12,color='black')"
   ],
   "execution_count":7,
   "outputs":[
    {
     "data":{
      "image\/png":"[encoded data removed]"
     },
     "metadata":{
      "image\/png":{
       
      }
     },
     "output_type":"display_data"
    }
   ],
   "metadata":{
    "datalore":{
     "node_id":"flFOEs74zWIkPU7tadrOM3",
     "type":"CODE",
     "hide_input_from_viewers":true,
     "hide_output_from_viewers":true
    }
   }
  },
  {
   "cell_type":"code",
   "source":[
    "crime_fromvehicle = crime_dropped.loc[crime_dropped[\"TYPE\"]==\"Theft from Vehicle\"]\n",
    "crime_fromvehicle_grouped = crime_fromvehicle.groupby(crime_fromvehicle['NEIGHBOURHOOD']).count()\n",
    "# Suç tipini 'Theft from Vehicle' olarak belirleyip, mahallelerde işlenme sayılarını öğrenmek."
   ],
   "execution_count":8,
   "outputs":[
    
   ],
   "metadata":{
    "datalore":{
     "node_id":"VVTsD4ReHUxrhBU7cuDovN",
     "type":"CODE",
     "hide_input_from_viewers":true,
     "hide_output_from_viewers":true
    }
   }
  },
  {
   "cell_type":"code",
   "source":[
    "plot = crime_fromvehicle_grouped.iloc[:,0]\n",
    "plot = pd.DataFrame(plot)   #Grafik oluşturma\n",
    "plot.columns = [\"Sayı\"]"
   ],
   "execution_count":9,
   "outputs":[
    
   ],
   "metadata":{
    "datalore":{
     "node_id":"1ia8TylsyTvedVgH7fNzzE",
     "type":"CODE",
     "hide_input_from_viewers":true,
     "hide_output_from_viewers":true
    }
   }
  },
  {
   "cell_type":"code",
   "source":[
    "\n",
    "totals = []\n",
    "ax = plot.plot(kind='barh',figsize=(15,5),title='2003-2017 arasında Vancouver da Mahallelere Göre Araçtan Yapılan Hırsızlıklar')\n",
    "for i in ax.patches:                            #Grafik oluşturma.\n",
    "    ax.text(i.get_width()+0.3,i.get_y()+0.38,\\\n",
    "            str(round((i.get_width()),2)),fontsize=10,color='black')"
   ],
   "execution_count":10,
   "outputs":[
    {
     "data":{
      "image\/png":"[encoded data removed]"
     },
     "metadata":{
      "image\/png":{
       
      }
     },
     "output_type":"display_data"
    }
   ],
   "metadata":{
    "datalore":{
     "node_id":"VhjJmuslYYbcAlIDPzJsyp",
     "type":"CODE",
     "hide_input_from_viewers":true,
     "hide_output_from_viewers":true
    }
   }
  },
  {
   "cell_type":"code",
   "source":[
    "crime_neig = crime_dropped.groupby(crime_dropped[\"NEIGHBOURHOOD\"]).count()\n",
    "#Mahallelerde işlenmiş tüm suçların sayısını öğrenmek."
   ],
   "execution_count":11,
   "outputs":[
    
   ],
   "metadata":{
    "datalore":{
     "node_id":"zonToHJ0p4NI17lxPkR6Ol",
     "type":"CODE",
     "hide_input_from_viewers":true,
     "hide_output_from_viewers":true
    }
   }
  },
  {
   "cell_type":"code",
   "source":[
    "plot = crime_neig.iloc[:,0]\n",
    "plot = pd.DataFrame(plot) # Grafik oluşturma\n",
    "plot.columns = [\"Sayı\"]"
   ],
   "execution_count":12,
   "outputs":[
    
   ],
   "metadata":{
    "datalore":{
     "node_id":"NK0qVKzngETfPNG9r3mC2s",
     "type":"CODE",
     "hide_input_from_viewers":true,
     "hide_output_from_viewers":true
    }
   }
  },
  {
   "cell_type":"code",
   "source":[
    "totals = []\n",
    "ax = plot.plot(kind='barh',figsize=(15,5),title='2003-2017 arasında Vancouver da Mahallelerde işlenen suç sayısı')\n",
    "for i in ax.patches:                            #Grafik oluşturma\n",
    "    ax.text(i.get_width()+0.3,i.get_y()+0.38,\\\n",
    "            str(round((i.get_width()),2)),fontsize=10,color='black')"
   ],
   "execution_count":13,
   "outputs":[
    {
     "data":{
      "image\/png":"[encoded data removed]"
     },
     "metadata":{
      "image\/png":{
       
      }
     },
     "output_type":"display_data"
    }
   ],
   "metadata":{
    "datalore":{
     "node_id":"W436J1865uAQhYycQ2CWvI",
     "type":"CODE",
     "hide_input_from_viewers":true,
     "hide_output_from_viewers":true
    }
   }
  },
  {
   "cell_type":"markdown",
   "source":[
    "# K-Means Kümeleme"
   ],
   "attachments":{
    
   },
   "metadata":{
    "datalore":{
     "node_id":"hqVqB4LgZeua8bAFAByKgy",
     "type":"MD",
     "hide_input_from_viewers":true,
     "hide_output_from_viewers":true
    }
   }
  },
  {
   "cell_type":"code",
   "source":[
    "# K-Means için veri setinin şekillendirilmesi.\n",
    "crime_g = crime_dropped.groupby(['NEIGHBOURHOOD','TYPE']).size().to_frame('count').reset_index()\n",
    "crime_g = crime_g.pivot(index='NEIGHBOURHOOD', columns='TYPE',values='count')"
   ],
   "execution_count":14,
   "outputs":[
    
   ],
   "metadata":{
    "datalore":{
     "node_id":"4Ou6kEEW4fFll1K6BaK2Vd",
     "type":"CODE",
     "hide_input_from_viewers":true,
     "hide_output_from_viewers":true
    }
   }
  },
  {
   "cell_type":"code",
   "source":[
    "crime_g.head(20)"
   ],
   "execution_count":15,
   "outputs":[
    {
     "data":{
      "text\/html":[
       "<div>\n",
       "<style scoped>\n",
       "    .dataframe tbody tr th:only-of-type {\n",
       "        vertical-align: middle;\n",
       "    }\n",
       "\n",
       "    .dataframe tbody tr th {\n",
       "        vertical-align: top;\n",
       "    }\n",
       "\n",
       "    .dataframe thead th {\n",
       "        text-align: right;\n",
       "    }\n",
       "<\/style>\n",
       "<table border=\"1\" class=\"dataframe\">\n",
       "  <thead>\n",
       "    <tr style=\"text-align: right;\">\n",
       "      <th>TYPE<\/th>\n",
       "      <th>Break and Enter Commercial<\/th>\n",
       "      <th>Break and Enter Residential\/Other<\/th>\n",
       "      <th>Mischief<\/th>\n",
       "      <th>Other Theft<\/th>\n",
       "      <th>Theft from Vehicle<\/th>\n",
       "      <th>Theft of Bicycle<\/th>\n",
       "      <th>Theft of Vehicle<\/th>\n",
       "      <th>Vehicle Collision or Pedestrian Struck (with Fatality)<\/th>\n",
       "      <th>Vehicle Collision or Pedestrian Struck (with Injury)<\/th>\n",
       "    <\/tr>\n",
       "    <tr>\n",
       "      <th>NEIGHBOURHOOD<\/th>\n",
       "      <th><\/th>\n",
       "      <th><\/th>\n",
       "      <th><\/th>\n",
       "      <th><\/th>\n",
       "      <th><\/th>\n",
       "      <th><\/th>\n",
       "      <th><\/th>\n",
       "      <th><\/th>\n",
       "      <th><\/th>\n",
       "    <\/tr>\n",
       "  <\/thead>\n",
       "  <tbody>\n",
       "    <tr>\n",
       "      <th>Arbutus Ridge<\/th>\n",
       "      <td>325<\/td>\n",
       "      <td>1672<\/td>\n",
       "      <td>934<\/td>\n",
       "      <td>337<\/td>\n",
       "      <td>1852<\/td>\n",
       "      <td>160<\/td>\n",
       "      <td>498<\/td>\n",
       "      <td>3<\/td>\n",
       "      <td>285<\/td>\n",
       "    <\/tr>\n",
       "    <tr>\n",
       "      <th>Central Business District<\/th>\n",
       "      <td>9371<\/td>\n",
       "      <td>3505<\/td>\n",
       "      <td>16671<\/td>\n",
       "      <td>19243<\/td>\n",
       "      <td>48003<\/td>\n",
       "      <td>6907<\/td>\n",
       "      <td>4016<\/td>\n",
       "      <td>41<\/td>\n",
       "      <td>3188<\/td>\n",
       "    <\/tr>\n",
       "    <tr>\n",
       "      <th>Dunbar-Southlands<\/th>\n",
       "      <td>294<\/td>\n",
       "      <td>1847<\/td>\n",
       "      <td>1324<\/td>\n",
       "      <td>241<\/td>\n",
       "      <td>2899<\/td>\n",
       "      <td>240<\/td>\n",
       "      <td>629<\/td>\n",
       "      <td>3<\/td>\n",
       "      <td>269<\/td>\n",
       "    <\/tr>\n",
       "    <tr>\n",
       "      <th>Fairview<\/th>\n",
       "      <td>3303<\/td>\n",
       "      <td>3834<\/td>\n",
       "      <td>3196<\/td>\n",
       "      <td>3269<\/td>\n",
       "      <td>11934<\/td>\n",
       "      <td>3394<\/td>\n",
       "      <td>2037<\/td>\n",
       "      <td>14<\/td>\n",
       "      <td>1180<\/td>\n",
       "    <\/tr>\n",
       "    <tr>\n",
       "      <th>Grandview-Woodland<\/th>\n",
       "      <td>2082<\/td>\n",
       "      <td>4515<\/td>\n",
       "      <td>4970<\/td>\n",
       "      <td>2508<\/td>\n",
       "      <td>7342<\/td>\n",
       "      <td>1403<\/td>\n",
       "      <td>3111<\/td>\n",
       "      <td>9<\/td>\n",
       "      <td>1240<\/td>\n",
       "    <\/tr>\n",
       "    <tr>\n",
       "      <th>Hastings-Sunrise<\/th>\n",
       "      <td>929<\/td>\n",
       "      <td>3199<\/td>\n",
       "      <td>2904<\/td>\n",
       "      <td>1379<\/td>\n",
       "      <td>5654<\/td>\n",
       "      <td>321<\/td>\n",
       "      <td>2452<\/td>\n",
       "      <td>18<\/td>\n",
       "      <td>1270<\/td>\n",
       "    <\/tr>\n",
       "    <tr>\n",
       "      <th>Kensington-Cedar Cottage<\/th>\n",
       "      <td>1277<\/td>\n",
       "      <td>4136<\/td>\n",
       "      <td>3760<\/td>\n",
       "      <td>2961<\/td>\n",
       "      <td>7474<\/td>\n",
       "      <td>859<\/td>\n",
       "      <td>2919<\/td>\n",
       "      <td>11<\/td>\n",
       "      <td>1544<\/td>\n",
       "    <\/tr>\n",
       "    <tr>\n",
       "      <th>Kerrisdale<\/th>\n",
       "      <td>326<\/td>\n",
       "      <td>1826<\/td>\n",
       "      <td>1049<\/td>\n",
       "      <td>265<\/td>\n",
       "      <td>2805<\/td>\n",
       "      <td>179<\/td>\n",
       "      <td>547<\/td>\n",
       "      <td>7<\/td>\n",
       "      <td>443<\/td>\n",
       "    <\/tr>\n",
       "    <tr>\n",
       "      <th>Killarney<\/th>\n",
       "      <td>302<\/td>\n",
       "      <td>2130<\/td>\n",
       "      <td>1761<\/td>\n",
       "      <td>245<\/td>\n",
       "      <td>3990<\/td>\n",
       "      <td>163<\/td>\n",
       "      <td>1302<\/td>\n",
       "      <td>12<\/td>\n",
       "      <td>570<\/td>\n",
       "    <\/tr>\n",
       "    <tr>\n",
       "      <th>Kitsilano<\/th>\n",
       "      <td>2092<\/td>\n",
       "      <td>4390<\/td>\n",
       "      <td>3692<\/td>\n",
       "      <td>1729<\/td>\n",
       "      <td>8912<\/td>\n",
       "      <td>2464<\/td>\n",
       "      <td>2366<\/td>\n",
       "      <td>13<\/td>\n",
       "      <td>1040<\/td>\n",
       "    <\/tr>\n",
       "    <tr>\n",
       "      <th>Marpole<\/th>\n",
       "      <td>1098<\/td>\n",
       "      <td>2527<\/td>\n",
       "      <td>1905<\/td>\n",
       "      <td>612<\/td>\n",
       "      <td>4151<\/td>\n",
       "      <td>232<\/td>\n",
       "      <td>1617<\/td>\n",
       "      <td>10<\/td>\n",
       "      <td>931<\/td>\n",
       "    <\/tr>\n",
       "    <tr>\n",
       "      <th>Mount Pleasant<\/th>\n",
       "      <td>2769<\/td>\n",
       "      <td>3277<\/td>\n",
       "      <td>4070<\/td>\n",
       "      <td>3698<\/td>\n",
       "      <td>9678<\/td>\n",
       "      <td>2746<\/td>\n",
       "      <td>2654<\/td>\n",
       "      <td>18<\/td>\n",
       "      <td>1624<\/td>\n",
       "    <\/tr>\n",
       "    <tr>\n",
       "      <th>Musqueam<\/th>\n",
       "      <td>17<\/td>\n",
       "      <td>86<\/td>\n",
       "      <td>104<\/td>\n",
       "      <td>1<\/td>\n",
       "      <td>217<\/td>\n",
       "      <td>7<\/td>\n",
       "      <td>40<\/td>\n",
       "      <td>1<\/td>\n",
       "      <td>59<\/td>\n",
       "    <\/tr>\n",
       "    <tr>\n",
       "      <th>Oakridge<\/th>\n",
       "      <td>331<\/td>\n",
       "      <td>2088<\/td>\n",
       "      <td>889<\/td>\n",
       "      <td>1176<\/td>\n",
       "      <td>2290<\/td>\n",
       "      <td>172<\/td>\n",
       "      <td>669<\/td>\n",
       "      <td>6<\/td>\n",
       "      <td>414<\/td>\n",
       "    <\/tr>\n",
       "    <tr>\n",
       "      <th>Renfrew-Collingwood<\/th>\n",
       "      <td>1197<\/td>\n",
       "      <td>4296<\/td>\n",
       "      <td>3886<\/td>\n",
       "      <td>4119<\/td>\n",
       "      <td>8420<\/td>\n",
       "      <td>419<\/td>\n",
       "      <td>3011<\/td>\n",
       "      <td>12<\/td>\n",
       "      <td>1401<\/td>\n",
       "    <\/tr>\n",
       "    <tr>\n",
       "      <th>Riley Park<\/th>\n",
       "      <td>848<\/td>\n",
       "      <td>2705<\/td>\n",
       "      <td>1795<\/td>\n",
       "      <td>410<\/td>\n",
       "      <td>4269<\/td>\n",
       "      <td>621<\/td>\n",
       "      <td>1197<\/td>\n",
       "      <td>4<\/td>\n",
       "      <td>671<\/td>\n",
       "    <\/tr>\n",
       "    <tr>\n",
       "      <th>Shaughnessy<\/th>\n",
       "      <td>129<\/td>\n",
       "      <td>1774<\/td>\n",
       "      <td>633<\/td>\n",
       "      <td>25<\/td>\n",
       "      <td>1769<\/td>\n",
       "      <td>139<\/td>\n",
       "      <td>371<\/td>\n",
       "      <td>7<\/td>\n",
       "      <td>579<\/td>\n",
       "    <\/tr>\n",
       "    <tr>\n",
       "      <th>South Cambie<\/th>\n",
       "      <td>314<\/td>\n",
       "      <td>1109<\/td>\n",
       "      <td>606<\/td>\n",
       "      <td>759<\/td>\n",
       "      <td>1529<\/td>\n",
       "      <td>221<\/td>\n",
       "      <td>435<\/td>\n",
       "      <td>2<\/td>\n",
       "      <td>237<\/td>\n",
       "    <\/tr>\n",
       "    <tr>\n",
       "      <th>Stanley Park<\/th>\n",
       "      <td>72<\/td>\n",
       "      <td>65<\/td>\n",
       "      <td>246<\/td>\n",
       "      <td>13<\/td>\n",
       "      <td>2868<\/td>\n",
       "      <td>214<\/td>\n",
       "      <td>74<\/td>\n",
       "      <td>6<\/td>\n",
       "      <td>217<\/td>\n",
       "    <\/tr>\n",
       "    <tr>\n",
       "      <th>Strathcona<\/th>\n",
       "      <td>2168<\/td>\n",
       "      <td>2019<\/td>\n",
       "      <td>4555<\/td>\n",
       "      <td>993<\/td>\n",
       "      <td>7343<\/td>\n",
       "      <td>1015<\/td>\n",
       "      <td>1650<\/td>\n",
       "      <td>20<\/td>\n",
       "      <td>1154<\/td>\n",
       "    <\/tr>\n",
       "  <\/tbody>\n",
       "<\/table>\n",
       "<\/div>"
      ]
     },
     "metadata":{
      
     },
     "output_type":"display_data"
    }
   ],
   "metadata":{
    "datalore":{
     "node_id":"DEhWZ9jzh6vGA8wdSLRX09",
     "type":"CODE",
     "hide_input_from_viewers":true,
     "hide_output_from_viewers":true
    }
   }
  },
  {
   "cell_type":"code",
   "source":[
    "neighbourhoods = crime_g.index\n",
    "neighbourhoods = np.array(neighbourhoods) #Mahalleleri indexlerine göre bir arrayde tutmak. KMeans sonuçları için."
   ],
   "execution_count":16,
   "outputs":[
    
   ],
   "metadata":{
    "datalore":{
     "node_id":"4LDYJ2xrHqad3Si6ljnplR",
     "type":"CODE",
     "hide_input_from_viewers":true,
     "hide_output_from_viewers":true
    }
   }
  },
  {
   "cell_type":"code",
   "source":[
    "scaler = StandardScaler() # Veri setini ortalamasını = 0 standart sapmasını = 1 yaparak normalleştiren araç."
   ],
   "execution_count":17,
   "outputs":[
    
   ],
   "metadata":{
    "datalore":{
     "node_id":"5EpmkmVIvnfyr7b7jWDGSc",
     "type":"CODE",
     "hide_input_from_viewers":true,
     "hide_output_from_viewers":true
    }
   }
  },
  {
   "cell_type":"code",
   "source":[
    "sum_of_squared_distances=[]\n",
    "\n",
    "std_scale = scaler.fit(crime_g) # Veri setinin ortalamasını = 0 standart sapmasını = 1 yaparak normalleştirilmesi\n",
    "crime_gtransf = std_scale.transform(crime_g)#normalleştirilen veri setinin dönüştürülmesi\n",
    "pca = PCA(n_components=3) # PCA tanımı\n",
    "pca = pca.fit(crime_gtransf) # Dönüştürülen veri setinde PCA uygulanması\n",
    "X = pca.transform(crime_gtransf)#PCA uygulanmış veri setinin dönüştürülmesi\n",
    "\n",
    "K=range(1,15)\n",
    "for k in K:                     # Her K değeri için dirsek yönteminin hesaplanması\n",
    "    km = KMeans(n_clusters=k)\n",
    "    km = km.fit(crime_gtransf)\n",
    "    sum_of_squared_distances.append(km.inertia_)"
   ],
   "execution_count":18,
   "outputs":[
    
   ],
   "metadata":{
    "datalore":{
     "node_id":"eBIgIcoG4KyTmbtazuXERz",
     "type":"CODE",
     "hide_input_from_viewers":true,
     "hide_output_from_viewers":true
    }
   }
  },
  {
   "cell_type":"code",
   "source":[
    "plt.plot(K, sum_of_squared_distances, 'bx-')\n",
    "plt.xlabel('k')\n",
    "plt.ylabel('Sum_of_squared_distances')\n",
    "plt.title('Elbow Method For Optimal k')\n",
    "plt.show()"
   ],
   "execution_count":19,
   "outputs":[
    {
     "data":{
      "image\/png":"[encoded data removed]"
     },
     "metadata":{
      "image\/png":{
       
      }
     },
     "output_type":"display_data"
    }
   ],
   "metadata":{
    "datalore":{
     "node_id":"ORiZBDJEv4hKI0tEfhICpH",
     "type":"CODE",
     "hide_input_from_viewers":true,
     "hide_output_from_viewers":true
    }
   }
  },
  {
   "cell_type":"markdown",
   "source":[
    "Dirsek şekli k=3 te oluşuyor. K-means için en iyi k=3."
   ],
   "attachments":{
    
   },
   "metadata":{
    "datalore":{
     "node_id":"tYt8GeiQKOcblmZF9GRWff",
     "type":"MD",
     "hide_input_from_viewers":true,
     "hide_output_from_viewers":true
    }
   }
  },
  {
   "cell_type":"code",
   "source":[
    "for n_clusters in range(2,6):\n",
    "    kmeans = KMeans(n_clusters=n_clusters,random_state=3425)\n",
    "    cluster_labels = kmeans.fit_predict(X)            #k=n kümede silüet skorlarının hesaplanması\n",
    "    silhoutte_avg = silhouette_score(X,cluster_labels)\n",
    "    print(\"n adet kümede =\",n_clusters,\"Ortalama silüet skoru =\",silhoutte_avg)\n",
    "    sample_silhoutte_values = silhouette_samples(X, cluster_labels)\n",
    "\n",
    "    fig,(ax1, ax2) = plt.subplots(1,2)\n",
    "    fig.set_size_inches(10,5)       \n",
    "\n",
    "                                                    #grafik oluşturulması\n",
    "    ax1.set_xlim([0.1,1])\n",
    "    ax1.set_ylim([0,len(X)+(n_clusters+1)*10])\n",
    "\n",
    "    y_lower = 10\n",
    "    for i in range(n_clusters):\n",
    "        cluster_silhoutte_values = \\\n",
    "            sample_silhoutte_values[cluster_labels==i]\n",
    "        \n",
    "        cluster_silhoutte_values.sort()\n",
    "                                                #grafik oluşturulması\n",
    "        size_cluster_i = cluster_silhoutte_values.shape[0]\n",
    "        y_upper = y_lower +size_cluster_i\n",
    "\n",
    "        color = cm.nipy_spectral(float(i) \/ n_clusters)\n",
    "        ax1.fill_betweenx(np.arange(y_lower, y_upper),\n",
    "                          0, cluster_silhoutte_values,\n",
    "                          facecolor=color, edgecolor=color, alpha=0.7)\n",
    "        ax1.text(-0.05, y_lower + 0.5 * size_cluster_i, str(i))\n",
    "        y_lower = y_upper + 10\n",
    "\n",
    "    ax1.set_title(\"Kümeler için Silüet grafiği\")     #grafik oluşturulması\n",
    "    ax1.set_xlabel(\"Silüet değerleri\")\n",
    "    ax1.set_ylabel(\"Kümeler\")\n",
    "\n",
    "    # Tüm değerler için sileüt skorunu gösteren dikey çizgi\n",
    "    ax1.axvline(x=silhoutte_avg, color=\"red\", linestyle=\"--\")\n",
    "\n",
    "    ax1.set_yticks([]) \n",
    "    ax1.set_xticks([-0.2,-0.1, 0, 0.2, 0.4, 0.6, 0.8, 1])\n",
    "\n",
    "    # Oluşturulmuş kümelerin grafiğinin oluşturulması\n",
    "    colors = cm.nipy_spectral(cluster_labels.astype(float) \/ n_clusters)\n",
    "    ax2.scatter(X[:, 0], X[:, 1], marker='.', s=300, lw=0, alpha=0.7,\n",
    "                c=colors, edgecolor='k')\n",
    "\n",
    "    # Kümelerin etiketleri\n",
    "    centers = kmeans.cluster_centers_\n",
    "    # Kümelerin ortalarına beyaz etiket çizmek\n",
    "    ax2.scatter(centers[:, 0], centers[:, 1], marker='o',\n",
    "                c=\"white\", alpha=1, s=200, edgecolor='k')\n",
    "\n",
    "    for i, c in enumerate(centers):\n",
    "        ax2.scatter(c[0], c[1], marker='$%d$' % i, alpha=1,\n",
    "                    s=50, edgecolor='k')\n",
    "\n",
    "    ax2.set_title(\"Kümelenmiş verilerin görselleştirilmesi.\")\n",
    "    ax2.set_xlabel(\"İlk özellik için özellik alanı\")\n",
    "    ax2.set_ylabel(\"İkinci özellik için özellik alanı\")\n",
    "\n",
    "    plt.suptitle((\"k = %d kümede K-Means için Silüet yöntemi\" % n_clusters ),\n",
    "                 fontsize=14, fontweight='bold')\n",
    "\n",
    "plt.show()"
   ],
   "execution_count":20,
   "outputs":[
    {
     "name":"stdout",
     "text":[
      "n adet kümede = 2 Ortalama silüet skoru = 0.7450740395325385\n",
      "n adet kümede = 3 Ortalama silüet skoru = 0.5501818086538878\n",
      "n adet kümede = 4 Ortalama silüet skoru = 0.46022641202915104\n",
      "n adet kümede = 5 Ortalama silüet skoru = 0.44582433174596847\n"
     ],
     "output_type":"stream"
    },
    {
     "data":{
      "image\/png":"[encoded data removed]"
     },
     "metadata":{
      "image\/png":{
       
      }
     },
     "output_type":"display_data"
    },
    {
     "data":{
      "image\/png":"[encoded data removed]"
     },
     "metadata":{
      "image\/png":{
       
      }
     },
     "output_type":"display_data"
    },
    {
     "data":{
      "image\/png":"[encoded data removed]"
     },
     "metadata":{
      "image\/png":{
       
      }
     },
     "output_type":"display_data"
    },
    {
     "data":{
      "image\/png":"[encoded data removed]"
     },
     "metadata":{
      "image\/png":{
       
      }
     },
     "output_type":"display_data"
    }
   ],
   "metadata":{
    "datalore":{
     "node_id":"EwSW0OfIXfZF6MDB44cIbg",
     "type":"CODE",
     "hide_input_from_viewers":true,
     "hide_output_from_viewers":true
    }
   }
  },
  {
   "cell_type":"markdown",
   "source":[
    "Silüet skorları ve grafikler incelendiğinde:\n",
    " - En iyi silüet skoru k=2 fakat grafikler incelendiğinde \"1\" etiketli kümenin tek bir mahalleden oluştuğu, \"0\" etiketli diğer mahallelerden oluştuğu görülmekte. \"1\" etiketli kümede ki mahallenin \"Central Business Disctrict\" olduğu söylenebilir. Bu durumda bizim için en iyi k=2 olduğu söylenemez.\n",
    " - k=3 grafikleri incelendiğinde ise \"2\" etiketli kümenin tek bir mahalle, \"0\" ve \"1\" etiketli kümelerin geri kalan mahallelerden oluştuğu görülüyor. "
   ],
   "attachments":{
    
   },
   "metadata":{
    "datalore":{
     "node_id":"JGpc8e6Thq9GJAmXpUCNsb",
     "type":"MD",
     "hide_input_from_viewers":true,
     "hide_output_from_viewers":true
    }
   }
  },
  {
   "cell_type":"code",
   "source":[
    "kmeans = KMeans(n_clusters=3,random_state=3425) # k=3 KMeans\n",
    "colors = ['green','blue','red']\n",
    "\n",
    "plt.figure(figsize=(15,5))\n",
    "\n",
    "ax=plt.subplot(121)\n",
    "kc = kmeans.fit(crime_gtransf) #PCAsız KMeans işlemi\n",
    "label = pd.DataFrame(kc.labels_) #Kümelerin etiketlenmesi\n",
    "crime_result = pd.DataFrame(crime_gtransf) # Sonuçlar\n",
    "crime_result['label']=label\n",
    "\n",
    "scatter = plt.scatter(crime_result[0],crime_result[2],c=list(label.iloc[:,0]),cmap=matplotlib.colors.ListedColormap(colors),s=50)\n",
    "plt.title(\"PCA sız KMeans\")\n",
    "plt.xlabel(\"Araçtan yapılan hırsızlıklar\") #Grafik oluşuturulması\n",
    "plt.ylabel(\"Haneye Tecavüz\")\n",
    "plt.colorbar(scatter)\n",
    "\n",
    "ax = plt.subplot(122)\n",
    "start = timeit.default_timer()\n",
    "kc = kmeans.fit(X) #PCA uygulanmış veri setine KMeans uygulanması\n",
    "stop = timeit.default_timer()\n",
    "klabel = pd.DataFrame(kc.labels_)#Kümelerin etiketlenmesi\n",
    "crime_result = pd.DataFrame(X)#Sonuçlar\n",
    "crime_result['label'] = klabel\n",
    "scatter = plt.scatter(crime_result[0],crime_result[2],c=list(klabel.iloc[:,0]),cmap=matplotlib.colors.ListedColormap(colors),s=50)\n",
    "\n",
    "plt.title(\"PCA lı KMeans\")\n",
    "plt.xlabel(\"PC1\")\n",
    "plt.ylabel(\"PC2\")     #Grafik oluşuturlması\n",
    "plt.colorbar(scatter)\n",
    "print(\"Çalışma Zamanı :\",stop-start)\n",
    "plt.show()\n"
   ],
   "execution_count":21,
   "outputs":[
    {
     "name":"stdout",
     "text":[
      "Çalışma Zamanı : 0.016991690999930142\n"
     ],
     "output_type":"stream"
    },
    {
     "data":{
      "image\/png":"[encoded data removed]"
     },
     "metadata":{
      "image\/png":{
       
      }
     },
     "output_type":"display_data"
    }
   ],
   "metadata":{
    "datalore":{
     "node_id":"OIpzZc150DFqBfqYfpBCIj",
     "type":"CODE",
     "hide_input_from_viewers":true,
     "hide_output_from_viewers":true
    }
   }
  },
  {
   "cell_type":"markdown",
   "source":[
    "PCA uygulanmamış KMeans sonuçları incelendiğinde bazı noktaların birbirine çok yakın olduğu gözlemleniyor. Bu durum kafa karışıklığına sebebiyet vermemesi adına Boyut azaltma tekniği olan PCA uygulanabilir. PCA uygulanmış KMeans sonuçları incelendiğinde noktaların daha farklı düzeylerde olduğu gözlemlenir."
   ],
   "attachments":{
    
   },
   "metadata":{
    "datalore":{
     "node_id":"CBANVrH0lkZRnpj5DscA9D",
     "type":"MD",
     "hide_input_from_viewers":true,
     "hide_output_from_viewers":true
    }
   }
  },
  {
   "cell_type":"code",
   "source":[
    "\n",
    "violent = neighbourhoods[np.where(klabel[0] ==1)]\n",
    "violent2 = neighbourhoods[np.where(klabel[0] == 0)]\n",
    "violent3 = neighbourhoods[np.where(klabel[0] == 2)]\n",
    "\n",
    "print(violent) # Güvenli\n",
    "print(violent2) # Güvensiz\n",
    "print(violent3) # Central Business District"
   ],
   "execution_count":22,
   "outputs":[
    {
     "name":"stdout",
     "text":[
      "['Arbutus Ridge' 'Dunbar-Southlands' 'Kerrisdale' 'Killarney' 'Marpole'\n",
      " 'Musqueam' 'Oakridge' 'Riley Park' 'Shaughnessy' 'South Cambie'\n",
      " 'Stanley Park' 'Victoria-Fraserview' 'West Point Grey']\n",
      "['Fairview' 'Grandview-Woodland' 'Hastings-Sunrise'\n",
      " 'Kensington-Cedar Cottage' 'Kitsilano' 'Mount Pleasant'\n",
      " 'Renfrew-Collingwood' 'Strathcona' 'Sunset' 'West End']\n",
      "['Central Business District']\n"
     ],
     "output_type":"stream"
    }
   ],
   "metadata":{
    "datalore":{
     "node_id":"zVuByhi9BSb4kiiCjxtmKJ",
     "type":"CODE",
     "hide_input_from_viewers":true,
     "hide_output_from_viewers":true
    }
   }
  },
  {
   "cell_type":"markdown",
   "source":[
    "## **Naive Bayes**"
   ],
   "attachments":{
    
   },
   "metadata":{
    "datalore":{
     "node_id":"6LCKZrLUZUDq8ndHNrzTai",
     "type":"MD",
     "hide_input_from_viewers":true,
     "hide_output_from_viewers":true
    }
   }
  },
  {
   "cell_type":"code",
   "source":[
    "from sklearn import preprocessing\n",
    "from sklearn.metrics import log_loss\n",
    "from sklearn.naive_bayes import BernoulliNB\n",
    "from sklearn.preprocessing import LabelEncoder\n",
    "from sklearn.model_selection import train_test_split\n",
    "from sklearn.linear_model import LogisticRegression"
   ],
   "execution_count":37,
   "outputs":[
    
   ],
   "metadata":{
    "datalore":{
     "node_id":"dZeTVNBDoTe77nEyPtcKmV",
     "type":"CODE",
     "hide_input_from_viewers":true,
     "hide_output_from_viewers":true
    }
   }
  },
  {
   "cell_type":"code",
   "source":[
    "train = pd.read_csv('train1.csv')\n",
    "train.head()"
   ],
   "execution_count":38,
   "outputs":[
    {
     "data":{
      "text\/html":[
       "<div>\n",
       "<style scoped>\n",
       "    .dataframe tbody tr th:only-of-type {\n",
       "        vertical-align: middle;\n",
       "    }\n",
       "\n",
       "    .dataframe tbody tr th {\n",
       "        vertical-align: top;\n",
       "    }\n",
       "\n",
       "    .dataframe thead th {\n",
       "        text-align: right;\n",
       "    }\n",
       "<\/style>\n",
       "<table border=\"1\" class=\"dataframe\">\n",
       "  <thead>\n",
       "    <tr style=\"text-align: right;\">\n",
       "      <th><\/th>\n",
       "      <th>Unnamed: 0<\/th>\n",
       "      <th>TYPE<\/th>\n",
       "      <th>YEAR<\/th>\n",
       "      <th>MONTH<\/th>\n",
       "      <th>DAY<\/th>\n",
       "      <th>HOUR<\/th>\n",
       "      <th>MINUTE<\/th>\n",
       "      <th>HUNDRED_BLOCK<\/th>\n",
       "      <th>NEIGHBOURHOOD<\/th>\n",
       "      <th>X<\/th>\n",
       "      <th>Y<\/th>\n",
       "      <th>Latitude<\/th>\n",
       "      <th>Longitude<\/th>\n",
       "      <th>split<\/th>\n",
       "    <\/tr>\n",
       "  <\/thead>\n",
       "  <tbody>\n",
       "    <tr>\n",
       "      <th>0<\/th>\n",
       "      <td>0<\/td>\n",
       "      <td>Other Theft<\/td>\n",
       "      <td>2003<\/td>\n",
       "      <td>5<\/td>\n",
       "      <td>12<\/td>\n",
       "      <td>16.0<\/td>\n",
       "      <td>15.0<\/td>\n",
       "      <td>9XX TERMINAL AVE<\/td>\n",
       "      <td>Strathcona<\/td>\n",
       "      <td>493906.5<\/td>\n",
       "      <td>5457452.47<\/td>\n",
       "      <td>49.269802<\/td>\n",
       "      <td>-123.083763<\/td>\n",
       "      <td>-0.442091<\/td>\n",
       "    <\/tr>\n",
       "    <tr>\n",
       "      <th>1<\/th>\n",
       "      <td>2<\/td>\n",
       "      <td>Other Theft<\/td>\n",
       "      <td>2003<\/td>\n",
       "      <td>4<\/td>\n",
       "      <td>23<\/td>\n",
       "      <td>16.0<\/td>\n",
       "      <td>40.0<\/td>\n",
       "      <td>9XX TERMINAL AVE<\/td>\n",
       "      <td>Strathcona<\/td>\n",
       "      <td>493906.5<\/td>\n",
       "      <td>5457452.47<\/td>\n",
       "      <td>49.269802<\/td>\n",
       "      <td>-123.083763<\/td>\n",
       "      <td>0.555076<\/td>\n",
       "    <\/tr>\n",
       "    <tr>\n",
       "      <th>2<\/th>\n",
       "      <td>3<\/td>\n",
       "      <td>Other Theft<\/td>\n",
       "      <td>2003<\/td>\n",
       "      <td>4<\/td>\n",
       "      <td>20<\/td>\n",
       "      <td>11.0<\/td>\n",
       "      <td>15.0<\/td>\n",
       "      <td>9XX TERMINAL AVE<\/td>\n",
       "      <td>Strathcona<\/td>\n",
       "      <td>493906.5<\/td>\n",
       "      <td>5457452.47<\/td>\n",
       "      <td>49.269802<\/td>\n",
       "      <td>-123.083763<\/td>\n",
       "      <td>2.888993<\/td>\n",
       "    <\/tr>\n",
       "    <tr>\n",
       "      <th>3<\/th>\n",
       "      <td>4<\/td>\n",
       "      <td>Other Theft<\/td>\n",
       "      <td>2003<\/td>\n",
       "      <td>4<\/td>\n",
       "      <td>12<\/td>\n",
       "      <td>17.0<\/td>\n",
       "      <td>45.0<\/td>\n",
       "      <td>9XX TERMINAL AVE<\/td>\n",
       "      <td>Strathcona<\/td>\n",
       "      <td>493906.5<\/td>\n",
       "      <td>5457452.47<\/td>\n",
       "      <td>49.269802<\/td>\n",
       "      <td>-123.083763<\/td>\n",
       "      <td>-1.048279<\/td>\n",
       "    <\/tr>\n",
       "    <tr>\n",
       "      <th>4<\/th>\n",
       "      <td>5<\/td>\n",
       "      <td>Other Theft<\/td>\n",
       "      <td>2003<\/td>\n",
       "      <td>3<\/td>\n",
       "      <td>26<\/td>\n",
       "      <td>20.0<\/td>\n",
       "      <td>45.0<\/td>\n",
       "      <td>9XX TERMINAL AVE<\/td>\n",
       "      <td>Strathcona<\/td>\n",
       "      <td>493906.5<\/td>\n",
       "      <td>5457452.47<\/td>\n",
       "      <td>49.269802<\/td>\n",
       "      <td>-123.083763<\/td>\n",
       "      <td>3.412966<\/td>\n",
       "    <\/tr>\n",
       "  <\/tbody>\n",
       "<\/table>\n",
       "<\/div>"
      ]
     },
     "metadata":{
      
     },
     "output_type":"display_data"
    }
   ],
   "metadata":{
    "datalore":{
     "node_id":"E7OrNprhqFKoo3fHTakjjz",
     "type":"CODE",
     "hide_input_from_viewers":true,
     "hide_output_from_viewers":true
    }
   }
  },
  {
   "cell_type":"code",
   "source":[
    "test = pd.read_csv('2022randomtest.csv')\n",
    "#test = test.drop(columns='TYPE')\n",
    "test.head()\n"
   ],
   "execution_count":39,
   "outputs":[
    {
     "data":{
      "text\/html":[
       "<div>\n",
       "<style scoped>\n",
       "    .dataframe tbody tr th:only-of-type {\n",
       "        vertical-align: middle;\n",
       "    }\n",
       "\n",
       "    .dataframe tbody tr th {\n",
       "        vertical-align: top;\n",
       "    }\n",
       "\n",
       "    .dataframe thead th {\n",
       "        text-align: right;\n",
       "    }\n",
       "<\/style>\n",
       "<table border=\"1\" class=\"dataframe\">\n",
       "  <thead>\n",
       "    <tr style=\"text-align: right;\">\n",
       "      <th><\/th>\n",
       "      <th>YEAR<\/th>\n",
       "      <th>MONTH<\/th>\n",
       "      <th>DAY<\/th>\n",
       "      <th>HOUR<\/th>\n",
       "      <th>MINUTE<\/th>\n",
       "      <th>HUNDRED_BLOCK<\/th>\n",
       "      <th>NEIGHBOURHOOD<\/th>\n",
       "      <th>X<\/th>\n",
       "      <th>Y<\/th>\n",
       "    <\/tr>\n",
       "  <\/thead>\n",
       "  <tbody>\n",
       "    <tr>\n",
       "      <th>0<\/th>\n",
       "      <td>2022<\/td>\n",
       "      <td>5<\/td>\n",
       "      <td>2<\/td>\n",
       "      <td>18.0<\/td>\n",
       "      <td>25.0<\/td>\n",
       "      <td>10XX CAMBIE ST<\/td>\n",
       "      <td>Central Business District<\/td>\n",
       "      <td>490670.45<\/td>\n",
       "      <td>5458416.73<\/td>\n",
       "    <\/tr>\n",
       "    <tr>\n",
       "      <th>1<\/th>\n",
       "      <td>2022<\/td>\n",
       "      <td>8<\/td>\n",
       "      <td>5<\/td>\n",
       "      <td>13.0<\/td>\n",
       "      <td>12.0<\/td>\n",
       "      <td>10XX CARDERO ST<\/td>\n",
       "      <td>West End<\/td>\n",
       "      <td>490148.05<\/td>\n",
       "      <td>5459395.79<\/td>\n",
       "    <\/tr>\n",
       "    <tr>\n",
       "      <th>2<\/th>\n",
       "      <td>2022<\/td>\n",
       "      <td>12<\/td>\n",
       "      <td>10<\/td>\n",
       "      <td>17.0<\/td>\n",
       "      <td>30.0<\/td>\n",
       "      <td>40XX W 8TH AVE<\/td>\n",
       "      <td>West Point Grey<\/td>\n",
       "      <td>485741.68<\/td>\n",
       "      <td>5456968.98<\/td>\n",
       "    <\/tr>\n",
       "    <tr>\n",
       "      <th>3<\/th>\n",
       "      <td>2022<\/td>\n",
       "      <td>4<\/td>\n",
       "      <td>13<\/td>\n",
       "      <td>23.0<\/td>\n",
       "      <td>45.0<\/td>\n",
       "      <td>41XX ALEXANDRA ST<\/td>\n",
       "      <td>Shaughnessy<\/td>\n",
       "      <td>489706.90<\/td>\n",
       "      <td>5455180.78<\/td>\n",
       "    <\/tr>\n",
       "    <tr>\n",
       "      <th>4<\/th>\n",
       "      <td>2022<\/td>\n",
       "      <td>3<\/td>\n",
       "      <td>21<\/td>\n",
       "      <td>10.0<\/td>\n",
       "      <td>15.0<\/td>\n",
       "      <td>41XX DUNBAR ST<\/td>\n",
       "      <td>Dunbar-Southlands<\/td>\n",
       "      <td>486526.33<\/td>\n",
       "      <td>5455189.95<\/td>\n",
       "    <\/tr>\n",
       "  <\/tbody>\n",
       "<\/table>\n",
       "<\/div>"
      ]
     },
     "metadata":{
      
     },
     "output_type":"display_data"
    }
   ],
   "metadata":{
    "datalore":{
     "node_id":"oP0HrZ0XOgRItKhuwYMfwl",
     "type":"CODE",
     "hide_input_from_viewers":true,
     "hide_output_from_viewers":true
    }
   }
  },
  {
   "cell_type":"code",
   "source":[
    "le = preprocessing.LabelEncoder()\n",
    "cat = le.fit_transform(train['TYPE']) #Suç tiplerini sayısal değere dönüştürme."
   ],
   "execution_count":40,
   "outputs":[
    
   ],
   "metadata":{
    "datalore":{
     "node_id":"BzJg0DaNgKhgDdDG7AmYUW",
     "type":"CODE",
     "hide_input_from_viewers":true,
     "hide_output_from_viewers":true
    }
   }
  },
  {
   "cell_type":"code",
   "source":[
    "neighs = pd.get_dummies(train['NEIGHBOURHOOD'])#Mahalleleri sayısal değere dönüştürme.\n",
    "hours = pd.get_dummies(train['HOUR'])#Saatleri sayısal değere dönüştürme."
   ],
   "execution_count":41,
   "outputs":[
    
   ],
   "metadata":{
    "datalore":{
     "node_id":"TQVm9mZe9Z3EmjSDb40IAN",
     "type":"CODE",
     "hide_input_from_viewers":true,
     "hide_output_from_viewers":true
    }
   }
  },
  {
   "cell_type":"code",
   "source":[
    "enc_train = pd.concat([hours,neighs], axis=1)\n",
    "enc_train['TYPE'] = cat      # farklı bir train veri seti için arraylerin birleştirilmesi"
   ],
   "execution_count":42,
   "outputs":[
    
   ],
   "metadata":{
    "datalore":{
     "node_id":"n1JxaH2SJcPdnrXAWKrUOK",
     "type":"CODE",
     "hide_input_from_viewers":true,
     "hide_output_from_viewers":true
    }
   }
  },
  {
   "cell_type":"code",
   "source":[
    "enc_train['X'] = train['X']\n",
    "enc_train['Y'] = train['Y']"
   ],
   "execution_count":43,
   "outputs":[
    
   ],
   "metadata":{
    "datalore":{
     "node_id":"6Ru1qZFWoR22msKJ20IxP0",
     "type":"CODE",
     "hide_input_from_viewers":true,
     "hide_output_from_viewers":true
    }
   }
  },
  {
   "cell_type":"code",
   "source":[
    "neighs = pd.get_dummies(test['NEIGHBOURHOOD'])#Mahalleleri sayısal değere dönüştürme\n",
    "hours = pd.get_dummies(test['HOUR'])#Saatleri sayısal değere dönüştürme."
   ],
   "execution_count":44,
   "outputs":[
    
   ],
   "metadata":{
    "datalore":{
     "node_id":"Rk5gRyEMqsLHfjuMkxGlw3",
     "type":"CODE",
     "hide_input_from_viewers":true,
     "hide_output_from_viewers":true
    }
   }
  },
  {
   "cell_type":"code",
   "source":[
    "enc_test = pd.concat([hours,neighs], axis=1)#Farklı bir test veri seti için arraylerin birleştirilmesi"
   ],
   "execution_count":45,
   "outputs":[
    
   ],
   "metadata":{
    "datalore":{
     "node_id":"9YNGjenBUPGLkelpPb3aTR",
     "type":"CODE",
     "hide_input_from_viewers":true,
     "hide_output_from_viewers":true
    }
   }
  },
  {
   "cell_type":"code",
   "source":[
    "enc_test['X'] = test['X']\n",
    "enc_test['Y'] = test['Y']"
   ],
   "execution_count":46,
   "outputs":[
    
   ],
   "metadata":{
    "datalore":{
     "node_id":"ZMIJyM5zKcMTwKpSVagRlK",
     "type":"CODE",
     "hide_input_from_viewers":true,
     "hide_output_from_viewers":true
    }
   }
  },
  {
   "cell_type":"code",
   "source":[
    "training, validation = train_test_split(enc_train,train_size=0.60)\n",
    "#train veri setini train ve test olarak ikiye ayırmak."
   ],
   "execution_count":47,
   "outputs":[
    
   ],
   "metadata":{
    "datalore":{
     "node_id":"EH9M2BsIo6g08l3Mzcqp0r",
     "type":"CODE",
     "hide_input_from_viewers":true,
     "hide_output_from_viewers":true
    }
   }
  },
  {
   "cell_type":"code",
   "source":[
    "# Model için özelliklerin belirtilmesi\n",
    "features = ['West Point Grey', 'West End', 'Victoria-Fraserview', 'Sunset','Strathcona',\n",
    "'Stanley Park', 'South Cambie', 'Shaughnessy', 'Riley Park', 'Renfrew-Collingwood', \n",
    "'Oakridge','Musqueam','Mount Pleasant','Marpole','Kitsilano','Killarney','Kerrisdale',\n",
    "'Kensington-Cedar Cottage','Hastings-Sunrise','Grandview-Woodland','Fairview',\n",
    "'Dunbar-Southlands','Central Business District','Arbutus Ridge','X','Y']\n",
    "features.extend(x for x in range (1,24)) # Saatlerin eklenmesi"
   ],
   "execution_count":48,
   "outputs":[
    
   ],
   "metadata":{
    "datalore":{
     "node_id":"saNm8Ns7JmkxAMviZ3iqjK",
     "type":"CODE",
     "hide_input_from_viewers":true,
     "hide_output_from_viewers":true
    }
   }
  },
  {
   "cell_type":"code",
   "source":[
    "model = BernoulliNB() #Naive Bayes\n",
    "model.fit(training[features],training['TYPE']) #Asıl training veri setinden tahmin\n",
    "predicted = np.array(model.predict_proba(validation[features]))#Sonuçlar\n",
    "log_loss(validation['TYPE'],predicted)"
   ],
   "execution_count":49,
   "outputs":[
    {
     "name":"stderr",
     "text":[
      "\/opt\/python\/envs\/default\/lib\/python3.8\/site-packages\/sklearn\/utils\/validation.py:1675: FutureWarning: Feature names only support names that are all strings. Got feature names with dtypes: ['float', 'str']. An error will be raised in 1.2.\n",
      "  warnings.warn(\n",
      "\/opt\/python\/envs\/default\/lib\/python3.8\/site-packages\/sklearn\/utils\/validation.py:1675: FutureWarning: Feature names only support names that are all strings. Got feature names with dtypes: ['float', 'str']. An error will be raised in 1.2.\n",
      "  warnings.warn(\n"
     ],
     "output_type":"stream"
    },
    {
     "data":{
      "text\/plain":[
       "1.7259139213452315"
      ]
     },
     "metadata":{
      
     },
     "output_type":"display_data"
    }
   ],
   "metadata":{
    "datalore":{
     "node_id":"ihwzBt6qauftmPspuGfeg5",
     "type":"CODE",
     "hide_input_from_viewers":true,
     "hide_output_from_viewers":true
    }
   }
  },
  {
   "cell_type":"code",
   "source":[
    "\n",
    "\n",
    "model = LogisticRegression(C=0.01) # Lojistik regresyon\n",
    "model.fit(training[features],training['TYPE']) #Asıl training veri setinden tahmin\n",
    "predicted = np.array(model.predict_proba(validation[features]))#Sonuçlar\n",
    "log_loss(validation['TYPE'],predicted)"
   ],
   "execution_count":51,
   "outputs":[
    {
     "name":"stderr",
     "text":[
      "\/opt\/python\/envs\/default\/lib\/python3.8\/site-packages\/sklearn\/utils\/validation.py:1675: FutureWarning: Feature names only support names that are all strings. Got feature names with dtypes: ['float', 'str']. An error will be raised in 1.2.\n",
      "  warnings.warn(\n",
      "\/opt\/python\/envs\/default\/lib\/python3.8\/site-packages\/sklearn\/utils\/validation.py:1675: FutureWarning: Feature names only support names that are all strings. Got feature names with dtypes: ['float', 'str']. An error will be raised in 1.2.\n",
      "  warnings.warn(\n"
     ],
     "output_type":"stream"
    },
    {
     "data":{
      "text\/plain":[
       "1.851329729056224"
      ]
     },
     "metadata":{
      
     },
     "output_type":"display_data"
    }
   ],
   "metadata":{
    "datalore":{
     "node_id":"CMxFBIriwEHLi4UgSGXoY0",
     "type":"CODE",
     "hide_input_from_viewers":true,
     "hide_output_from_viewers":true
    }
   }
  },
  {
   "cell_type":"code",
   "source":[
    "model = BernoulliNB() # Naive Bayes\n",
    "model.fit(enc_train[features],enc_train['TYPE']) # Sonradan oluşturulan train veri setinden tahmin\n",
    "predicted = model.predict_proba(enc_test[features])#Sonuçlar"
   ],
   "execution_count":52,
   "outputs":[
    {
     "name":"stderr",
     "text":[
      "\/opt\/python\/envs\/default\/lib\/python3.8\/site-packages\/sklearn\/utils\/validation.py:1675: FutureWarning: Feature names only support names that are all strings. Got feature names with dtypes: ['float', 'str']. An error will be raised in 1.2.\n",
      "  warnings.warn(\n",
      "\/opt\/python\/envs\/default\/lib\/python3.8\/site-packages\/sklearn\/utils\/validation.py:1675: FutureWarning: Feature names only support names that are all strings. Got feature names with dtypes: ['float', 'str']. An error will be raised in 1.2.\n",
      "  warnings.warn(\n"
     ],
     "output_type":"stream"
    }
   ],
   "metadata":{
    "datalore":{
     "node_id":"zFZW7oWaEPkDCSoqvCibjF",
     "type":"CODE",
     "hide_input_from_viewers":true,
     "hide_output_from_viewers":true
    }
   }
  },
  {
   "cell_type":"code",
   "source":[
    "res = pd.DataFrame(predicted,columns=le.classes_)\n",
    "res.to_csv(\"results.csv\",index=True,index_label=\"id\")\n",
    "res.head(20)"
   ],
   "execution_count":53,
   "outputs":[
    {
     "data":{
      "text\/html":[
       "<div>\n",
       "<style scoped>\n",
       "    .dataframe tbody tr th:only-of-type {\n",
       "        vertical-align: middle;\n",
       "    }\n",
       "\n",
       "    .dataframe tbody tr th {\n",
       "        vertical-align: top;\n",
       "    }\n",
       "\n",
       "    .dataframe thead th {\n",
       "        text-align: right;\n",
       "    }\n",
       "<\/style>\n",
       "<table border=\"1\" class=\"dataframe\">\n",
       "  <thead>\n",
       "    <tr style=\"text-align: right;\">\n",
       "      <th><\/th>\n",
       "      <th>Break and Enter Commercial<\/th>\n",
       "      <th>Break and Enter Residential\/Other<\/th>\n",
       "      <th>Mischief<\/th>\n",
       "      <th>Other Theft<\/th>\n",
       "      <th>Theft from Vehicle<\/th>\n",
       "      <th>Theft of Bicycle<\/th>\n",
       "      <th>Theft of Vehicle<\/th>\n",
       "      <th>Vehicle Collision or Pedestrian Struck (with Fatality)<\/th>\n",
       "      <th>Vehicle Collision or Pedestrian Struck (with Injury)<\/th>\n",
       "    <\/tr>\n",
       "  <\/thead>\n",
       "  <tbody>\n",
       "    <tr>\n",
       "      <th>0<\/th>\n",
       "      <td>0.076481<\/td>\n",
       "      <td>0.018696<\/td>\n",
       "      <td>0.118718<\/td>\n",
       "      <td>0.181809<\/td>\n",
       "      <td>0.490496<\/td>\n",
       "      <td>0.061750<\/td>\n",
       "      <td>0.030880<\/td>\n",
       "      <td>0.000179<\/td>\n",
       "      <td>0.020990<\/td>\n",
       "    <\/tr>\n",
       "    <tr>\n",
       "      <th>1<\/th>\n",
       "      <td>0.023526<\/td>\n",
       "      <td>0.096642<\/td>\n",
       "      <td>0.097294<\/td>\n",
       "      <td>0.281968<\/td>\n",
       "      <td>0.340228<\/td>\n",
       "      <td>0.084951<\/td>\n",
       "      <td>0.041375<\/td>\n",
       "      <td>0.000162<\/td>\n",
       "      <td>0.033855<\/td>\n",
       "    <\/tr>\n",
       "    <tr>\n",
       "      <th>2<\/th>\n",
       "      <td>0.049061<\/td>\n",
       "      <td>0.188636<\/td>\n",
       "      <td>0.131468<\/td>\n",
       "      <td>0.061481<\/td>\n",
       "      <td>0.353072<\/td>\n",
       "      <td>0.074402<\/td>\n",
       "      <td>0.073323<\/td>\n",
       "      <td>0.000761<\/td>\n",
       "      <td>0.067794<\/td>\n",
       "    <\/tr>\n",
       "    <tr>\n",
       "      <th>3<\/th>\n",
       "      <td>0.026167<\/td>\n",
       "      <td>0.267401<\/td>\n",
       "      <td>0.136467<\/td>\n",
       "      <td>0.001013<\/td>\n",
       "      <td>0.385764<\/td>\n",
       "      <td>0.019301<\/td>\n",
       "      <td>0.100809<\/td>\n",
       "      <td>0.001324<\/td>\n",
       "      <td>0.061753<\/td>\n",
       "    <\/tr>\n",
       "    <tr>\n",
       "      <th>4<\/th>\n",
       "      <td>0.021905<\/td>\n",
       "      <td>0.359258<\/td>\n",
       "      <td>0.147643<\/td>\n",
       "      <td>0.038274<\/td>\n",
       "      <td>0.298347<\/td>\n",
       "      <td>0.030341<\/td>\n",
       "      <td>0.057567<\/td>\n",
       "      <td>0.000792<\/td>\n",
       "      <td>0.045873<\/td>\n",
       "    <\/tr>\n",
       "    <tr>\n",
       "      <th>5<\/th>\n",
       "      <td>0.033626<\/td>\n",
       "      <td>0.140890<\/td>\n",
       "      <td>0.135969<\/td>\n",
       "      <td>0.122017<\/td>\n",
       "      <td>0.336472<\/td>\n",
       "      <td>0.034698<\/td>\n",
       "      <td>0.147798<\/td>\n",
       "      <td>0.000326<\/td>\n",
       "      <td>0.048204<\/td>\n",
       "    <\/tr>\n",
       "    <tr>\n",
       "      <th>6<\/th>\n",
       "      <td>0.031135<\/td>\n",
       "      <td>0.183493<\/td>\n",
       "      <td>0.144722<\/td>\n",
       "      <td>0.019977<\/td>\n",
       "      <td>0.450948<\/td>\n",
       "      <td>0.022013<\/td>\n",
       "      <td>0.107831<\/td>\n",
       "      <td>0.000535<\/td>\n",
       "      <td>0.039347<\/td>\n",
       "    <\/tr>\n",
       "    <tr>\n",
       "      <th>7<\/th>\n",
       "      <td>0.059907<\/td>\n",
       "      <td>0.174927<\/td>\n",
       "      <td>0.122766<\/td>\n",
       "      <td>0.081903<\/td>\n",
       "      <td>0.295315<\/td>\n",
       "      <td>0.118234<\/td>\n",
       "      <td>0.072520<\/td>\n",
       "      <td>0.000715<\/td>\n",
       "      <td>0.073713<\/td>\n",
       "    <\/tr>\n",
       "    <tr>\n",
       "      <th>8<\/th>\n",
       "      <td>0.325719<\/td>\n",
       "      <td>0.172187<\/td>\n",
       "      <td>0.214752<\/td>\n",
       "      <td>0.016220<\/td>\n",
       "      <td>0.155872<\/td>\n",
       "      <td>0.021346<\/td>\n",
       "      <td>0.064521<\/td>\n",
       "      <td>0.000596<\/td>\n",
       "      <td>0.028788<\/td>\n",
       "    <\/tr>\n",
       "    <tr>\n",
       "      <th>9<\/th>\n",
       "      <td>0.124105<\/td>\n",
       "      <td>0.148870<\/td>\n",
       "      <td>0.314771<\/td>\n",
       "      <td>0.000929<\/td>\n",
       "      <td>0.255127<\/td>\n",
       "      <td>0.009341<\/td>\n",
       "      <td>0.056231<\/td>\n",
       "      <td>0.013117<\/td>\n",
       "      <td>0.077508<\/td>\n",
       "    <\/tr>\n",
       "    <tr>\n",
       "      <th>10<\/th>\n",
       "      <td>0.023118<\/td>\n",
       "      <td>0.181747<\/td>\n",
       "      <td>0.161012<\/td>\n",
       "      <td>0.036644<\/td>\n",
       "      <td>0.362954<\/td>\n",
       "      <td>0.010154<\/td>\n",
       "      <td>0.172788<\/td>\n",
       "      <td>0.000749<\/td>\n",
       "      <td>0.050834<\/td>\n",
       "    <\/tr>\n",
       "    <tr>\n",
       "      <th>11<\/th>\n",
       "      <td>0.107660<\/td>\n",
       "      <td>0.115846<\/td>\n",
       "      <td>0.327471<\/td>\n",
       "      <td>0.013079<\/td>\n",
       "      <td>0.240133<\/td>\n",
       "      <td>0.010676<\/td>\n",
       "      <td>0.128246<\/td>\n",
       "      <td>0.001548<\/td>\n",
       "      <td>0.055341<\/td>\n",
       "    <\/tr>\n",
       "    <tr>\n",
       "      <th>12<\/th>\n",
       "      <td>0.254009<\/td>\n",
       "      <td>0.117565<\/td>\n",
       "      <td>0.216434<\/td>\n",
       "      <td>0.009066<\/td>\n",
       "      <td>0.247347<\/td>\n",
       "      <td>0.029446<\/td>\n",
       "      <td>0.059666<\/td>\n",
       "      <td>0.000710<\/td>\n",
       "      <td>0.065759<\/td>\n",
       "    <\/tr>\n",
       "    <tr>\n",
       "      <th>13<\/th>\n",
       "      <td>0.012966<\/td>\n",
       "      <td>0.010521<\/td>\n",
       "      <td>0.062408<\/td>\n",
       "      <td>0.001177<\/td>\n",
       "      <td>0.821855<\/td>\n",
       "      <td>0.038674<\/td>\n",
       "      <td>0.022538<\/td>\n",
       "      <td>0.001682<\/td>\n",
       "      <td>0.028180<\/td>\n",
       "    <\/tr>\n",
       "    <tr>\n",
       "      <th>14<\/th>\n",
       "      <td>0.154591<\/td>\n",
       "      <td>0.203024<\/td>\n",
       "      <td>0.244245<\/td>\n",
       "      <td>0.027033<\/td>\n",
       "      <td>0.227445<\/td>\n",
       "      <td>0.025812<\/td>\n",
       "      <td>0.082625<\/td>\n",
       "      <td>0.000642<\/td>\n",
       "      <td>0.034583<\/td>\n",
       "    <\/tr>\n",
       "    <tr>\n",
       "      <th>15<\/th>\n",
       "      <td>0.042523<\/td>\n",
       "      <td>0.365188<\/td>\n",
       "      <td>0.117438<\/td>\n",
       "      <td>0.008479<\/td>\n",
       "      <td>0.264481<\/td>\n",
       "      <td>0.053818<\/td>\n",
       "      <td>0.072985<\/td>\n",
       "      <td>0.000238<\/td>\n",
       "      <td>0.074850<\/td>\n",
       "    <\/tr>\n",
       "    <tr>\n",
       "      <th>16<\/th>\n",
       "      <td>0.058675<\/td>\n",
       "      <td>0.276244<\/td>\n",
       "      <td>0.143061<\/td>\n",
       "      <td>0.043023<\/td>\n",
       "      <td>0.278845<\/td>\n",
       "      <td>0.014006<\/td>\n",
       "      <td>0.098984<\/td>\n",
       "      <td>0.000480<\/td>\n",
       "      <td>0.086682<\/td>\n",
       "    <\/tr>\n",
       "    <tr>\n",
       "      <th>17<\/th>\n",
       "      <td>0.013452<\/td>\n",
       "      <td>0.282035<\/td>\n",
       "      <td>0.079819<\/td>\n",
       "      <td>0.267487<\/td>\n",
       "      <td>0.220305<\/td>\n",
       "      <td>0.022512<\/td>\n",
       "      <td>0.054034<\/td>\n",
       "      <td>0.001287<\/td>\n",
       "      <td>0.059068<\/td>\n",
       "    <\/tr>\n",
       "    <tr>\n",
       "      <th>18<\/th>\n",
       "      <td>0.040743<\/td>\n",
       "      <td>0.290670<\/td>\n",
       "      <td>0.122092<\/td>\n",
       "      <td>0.072650<\/td>\n",
       "      <td>0.258097<\/td>\n",
       "      <td>0.017947<\/td>\n",
       "      <td>0.089415<\/td>\n",
       "      <td>0.000863<\/td>\n",
       "      <td>0.107523<\/td>\n",
       "    <\/tr>\n",
       "    <tr>\n",
       "      <th>19<\/th>\n",
       "      <td>0.048340<\/td>\n",
       "      <td>0.151010<\/td>\n",
       "      <td>0.117430<\/td>\n",
       "      <td>0.108808<\/td>\n",
       "      <td>0.323619<\/td>\n",
       "      <td>0.114746<\/td>\n",
       "      <td>0.081271<\/td>\n",
       "      <td>0.000225<\/td>\n",
       "      <td>0.054550<\/td>\n",
       "    <\/tr>\n",
       "  <\/tbody>\n",
       "<\/table>\n",
       "<\/div>"
      ]
     },
     "metadata":{
      
     },
     "output_type":"display_data"
    }
   ],
   "metadata":{
    "datalore":{
     "node_id":"fTm4E94lFcRMAZBwrxKAda",
     "type":"CODE",
     "hide_input_from_viewers":true,
     "hide_output_from_viewers":true
    }
   }
  }
 ],
 "metadata":{
  "kernelspec":{
   "display_name":"Python",
   "language":"python",
   "name":"python"
  },
  "datalore":{
   "version":1,
   "computation_mode":"JUPYTER",
   "package_manager":"pip",
   "base_environment":"default",
   "packages":[
    {
     "name":"folium",
     "source":"PIP"
    },
    {
     "name":"squarify",
     "source":"PIP"
    },
    {
     "name":"sklearn",
     "version":"0.0",
     "source":"PIP"
    },
    {
     "name":"matplotlib",
     "version":"3.4.3",
     "source":"PIP"
    }
   ]
  }
 },
 "nbformat":4,
 "nbformat_minor":4
}
